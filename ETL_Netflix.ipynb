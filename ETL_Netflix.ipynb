{
 "cells": [
  {
   "cell_type": "code",
   "execution_count": 4,
   "id": "46055369",
   "metadata": {},
   "outputs": [
    {
     "name": "stdout",
     "output_type": "stream",
     "text": [
      "  show_id     type                                      title        director  \\\n",
      "0      s1  TV Show                                         3%             NaN   \n",
      "1     s10    Movie                                       1920    Vikram Bhatt   \n",
      "2    s100    Movie                                 3 Heroines  Iman Brotoseno   \n",
      "3   s1000    Movie  Blue Mountain State: The Rise of Thadland    Lev L. Spiro   \n",
      "4   s1001  TV Show                             Blue Planet II             NaN   \n",
      "\n",
      "                                                cast         country  \\\n",
      "0  João Miguel, Bianca Comparato, Michel Gomes, R...          Brazil   \n",
      "1  Rajneesh Duggal, Adah Sharma, Indraneil Sengup...           India   \n",
      "2  Reza Rahadian, Bunga Citra Lestari, Tara Basro...       Indonesia   \n",
      "3  Alan Ritchson, Darin Brooks, James Cade, Rob R...   United States   \n",
      "4                                 David Attenborough  United Kingdom   \n",
      "\n",
      "  date_added  release_year rating  duration  \\\n",
      "0  14-Aug-20          2020  TV-MA         4   \n",
      "1  15-Dec-17          2008  TV-MA       143   \n",
      "2   5-Jan-19          2016  TV-PG       124   \n",
      "3   1-Mar-16          2016      R        90   \n",
      "4   3-Dec-18          2017   TV-G         1   \n",
      "\n",
      "                                              genres  \\\n",
      "0  International TV Shows, TV Dramas, TV Sci-Fi &...   \n",
      "1     Horror Movies, International Movies, Thrillers   \n",
      "2        Dramas, International Movies, Sports Movies   \n",
      "3                                           Comedies   \n",
      "4  British TV Shows, Docuseries, Science & Nature TV   \n",
      "\n",
      "                                         description  \n",
      "0  In a future where the elite inhabit an island ...  \n",
      "1  An architect and his wife move into a castle t...  \n",
      "2  Three Indonesian women break records by becomi...  \n",
      "3  New NFL star Thad buys his old teammates' belo...  \n",
      "4  This sequel to the award-winning nature series...  \n"
     ]
    }
   ],
   "source": [
    "import pandas as pd\n",
    "\n",
    "df = pd.read_csv(\"NetFlix.csv\")\n",
    "print(df.head())\n"
   ]
  },
  {
   "cell_type": "code",
   "execution_count": null,
   "id": "13e7b2a7",
   "metadata": {},
   "outputs": [
    {
     "name": "stdout",
     "output_type": "stream",
     "text": [
      "Row Sampling complete. Saved as row_sample.csv\n"
     ]
    }
   ],
   "source": [
    "import pandas as pd\n",
    "\n",
    "df = pd.read_csv(\"Netflix.csv\")\n",
    "\n",
    "# Take first 100 rows\n",
    "row_sample = df.head(50)\n",
    "\n",
    "# Save sampled data to new file\n",
    "row_sample.to_csv(\"row_sample.csv\", index=False)\n",
    "\n",
    "print(\"Row Sampling complete. Saved as row_sample.csv\")\n"
   ]
  },
  {
   "cell_type": "code",
   "execution_count": 8,
   "id": "529b3452",
   "metadata": {},
   "outputs": [
    {
     "name": "stdout",
     "output_type": "stream",
     "text": [
      "Percentage Sampling complete. Saved as percentage_sample.csv\n"
     ]
    }
   ],
   "source": [
    "import pandas as pd\n",
    "\n",
    "df = pd.read_csv(\"Netflix.csv\")\n",
    "\n",
    "# Take 10% of the data randomly\n",
    "percentage_sample = df.sample(frac=0.10, random_state=1)\n",
    "\n",
    "# Save sampled data\n",
    "percentage_sample.to_csv(\"percentage_sample.csv\", index=False)\n",
    "\n",
    "print(\"Percentage Sampling complete. Saved as percentage_sample.csv\")"
   ]
  },
  {
   "cell_type": "code",
   "execution_count": 9,
   "id": "05d06ce0",
   "metadata": {},
   "outputs": [
    {
     "name": "stdout",
     "output_type": "stream",
     "text": [
      "Dataset broken into 3 parts and saved as separate CSVs\n"
     ]
    }
   ],
   "source": [
    "import pandas as pd\n",
    "\n",
    "# Load dataset\n",
    "df = pd.read_csv(\"Netflix.csv\")\n",
    "\n",
    "# Break into 3 parts (like 3 sheets)\n",
    "part1 = df.iloc[:100]\n",
    "part2 = df.iloc[100:200]\n",
    "part3 = df.iloc[200:]\n",
    "\n",
    "# Save each part separately\n",
    "part1.to_csv(\"Netflix_part1.csv\", index=False)\n",
    "part2.to_csv(\"Netflix_part2.csv\", index=False)\n",
    "part3.to_csv(\"Netflix_part3.csv\", index=False)\n",
    "\n",
    "print(\"Dataset broken into 3 parts and saved as separate CSVs\")\n"
   ]
  },
  {
   "cell_type": "code",
   "execution_count": 10,
   "id": "6ae74c7d",
   "metadata": {},
   "outputs": [
    {
     "name": "stdout",
     "output_type": "stream",
     "text": [
      "Data loaded into netflix.db (SQLite)\n"
     ]
    }
   ],
   "source": [
    "import sqlite3\n",
    "\n",
    "# Connect to SQLite (creates DB file)\n",
    "conn = sqlite3.connect(\"netflix.db\")\n",
    "\n",
    "# Load the main dataset into SQL table\n",
    "df.to_sql(\"NetflixData\", conn, if_exists=\"replace\", index=False)\n",
    "\n",
    "print(\"Data loaded into netflix.db (SQLite)\")\n"
   ]
  }
 ],
 "metadata": {
  "kernelspec": {
   "display_name": "base",
   "language": "python",
   "name": "python3"
  },
  "language_info": {
   "codemirror_mode": {
    "name": "ipython",
    "version": 3
   },
   "file_extension": ".py",
   "mimetype": "text/x-python",
   "name": "python",
   "nbconvert_exporter": "python",
   "pygments_lexer": "ipython3",
   "version": "3.12.7"
  }
 },
 "nbformat": 4,
 "nbformat_minor": 5
}
